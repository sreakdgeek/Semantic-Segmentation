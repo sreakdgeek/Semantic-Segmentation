{
 "cells": [
  {
   "cell_type": "markdown",
   "metadata": {},
   "source": [
    "# Load Tensorflow and check version. Check GPU exists or not"
   ]
  },
  {
   "cell_type": "code",
   "execution_count": 1,
   "metadata": {},
   "outputs": [
    {
     "name": "stdout",
     "output_type": "stream",
     "text": [
      "TensorFlow Version: 1.4.0\n",
      "Default GPU Device: /device:GPU:0\n"
     ]
    }
   ],
   "source": [
    "#!/usr/bin/env python3\n",
    "import os.path\n",
    "import tensorflow as tf\n",
    "import helper\n",
    "import warnings\n",
    "from distutils.version import LooseVersion\n",
    "import project_tests as tests\n",
    "\n",
    "\n",
    "# Check TensorFlow Version\n",
    "assert LooseVersion(tf.__version__) >= LooseVersion('1.0'), 'Please use TensorFlow version 1.0 or newer.  You are using {}'.format(tf.__version__)\n",
    "print('TensorFlow Version: {}'.format(tf.__version__))\n",
    "\n",
    "# Check for a GPU\n",
    "if not tf.test.gpu_device_name():\n",
    "    warnings.warn('No GPU found. Please use a GPU to train your neural network.')\n",
    "else:\n",
    "    print('Default GPU Device: {}'.format(tf.test.gpu_device_name()))"
   ]
  },
  {
   "cell_type": "markdown",
   "metadata": {},
   "source": [
    "# Load Pre-trained VGG Network - Encoder part"
   ]
  },
  {
   "cell_type": "code",
   "execution_count": 2,
   "metadata": {
    "collapsed": true
   },
   "outputs": [],
   "source": [
    "def load_vgg(sess, vgg_path):\n",
    "    \"\"\"\n",
    "    Load Pretrained VGG Model into TensorFlow.\n",
    "    :param sess: TensorFlow Session\n",
    "    :param vgg_path: Path to vgg folder, containing \"variables/\" and \"saved_model.pb\"\n",
    "    :return: Tuple of Tensors from VGG model (image_input, keep_prob, layer3_out, layer4_out, layer7_out)\n",
    "    \"\"\"\n",
    "    # TODO: Implement function\n",
    "    #   Use tf.saved_model.loader.load to load the model and weights\n",
    "    vgg_tag = 'vgg16'\n",
    "    vgg_input_tensor_name = 'image_input:0'\n",
    "    vgg_keep_prob_tensor_name = 'keep_prob:0'\n",
    "    vgg_layer3_out_tensor_name = 'layer3_out:0'\n",
    "    vgg_layer4_out_tensor_name = 'layer4_out:0'\n",
    "    vgg_layer7_out_tensor_name = 'layer7_out:0'\n",
    "    \n",
    "    tf.saved_model.loader.load(sess, [vgg_tag], vgg_path)\n",
    "    img_input = tf.get_default_graph().get_tensor_by_name(vgg_input_tensor_name)\n",
    "    keep_prob = tf.get_default_graph().get_tensor_by_name(vgg_keep_prob_tensor_name)\n",
    "    print(\"keep_prob tensor shape = \" + str())\n",
    "    layer3_out = tf.get_default_graph().get_tensor_by_name(vgg_layer3_out_tensor_name)\n",
    "    print(\"layer3 shape = \" + str(layer3_out.get_shape()))\n",
    "    layer4_out = tf.get_default_graph().get_tensor_by_name(vgg_layer4_out_tensor_name)\n",
    "    layer7_out = tf.get_default_graph().get_tensor_by_name(vgg_layer7_out_tensor_name)\n",
    "    \n",
    "    return img_input, keep_prob, layer3_out, layer4_out, layer7_out"
   ]
  },
  {
   "cell_type": "code",
   "execution_count": 3,
   "metadata": {},
   "outputs": [
    {
     "name": "stdout",
     "output_type": "stream",
     "text": [
      "keep_prob tensor shape = \n",
      "layer3 shape = <unknown>\n",
      "Tests Passed\n"
     ]
    }
   ],
   "source": [
    "tests.test_load_vgg(load_vgg, tf)"
   ]
  },
  {
   "cell_type": "markdown",
   "metadata": {
    "collapsed": true
   },
   "source": [
    "## Create Layers - Decoder part"
   ]
  },
  {
   "cell_type": "code",
   "execution_count": 3,
   "metadata": {},
   "outputs": [
    {
     "name": "stdout",
     "output_type": "stream",
     "text": [
      "Tests Passed\n"
     ]
    }
   ],
   "source": [
    "def layers(vgg_layer3_out, vgg_layer4_out, vgg_layer7_out, num_classes):\n",
    "    \"\"\"\n",
    "    Create the layers for a fully convolutional network.  Build skip-layers using the vgg layers.\n",
    "    :param vgg_layer3_out: TF Tensor for VGG Layer 3 output\n",
    "    :param vgg_layer4_out: TF Tensor for VGG Layer 4 output\n",
    "    :param vgg_layer7_out: TF Tensor for VGG Layer 7 output\n",
    "    :param num_classes: Number of classes to classify\n",
    "    :return: The Tensor for the last layer of output\n",
    "    \"\"\"\n",
    "    # TODO: Implement function\n",
    "    # Step # 1: 1x1 Convolution of vgg_layer7_out\n",
    "    layer7_out_1x1 = tf.layers.conv2d(vgg_layer7_out, num_classes, 1, padding = 'same', \n",
    "                                      kernel_initializer = tf.random_normal_initializer(stddev=0.01),\n",
    "                                      kernel_regularizer= tf.contrib.layers.l2_regularizer(1e-3))\n",
    "    \n",
    "    # Step # 2: Upsampling\n",
    "    layer7_out_upsampled = tf.layers.conv2d_transpose(layer7_out_1x1, num_classes, 4, \n",
    "                                                        strides = (2,2),\n",
    "                                                        padding = 'same',\n",
    "                                                        kernel_initializer = tf.random_normal_initializer(stddev=0.01),\n",
    "                                                        kernel_regularizer= tf.contrib.layers.l2_regularizer(1e-3))\n",
    "    \n",
    "    # Step # 3: Match vgg_layer 4 dimensions to layers 7 upsampled output by using 1x1 convolution\n",
    "    layer4_out_1x1 = tf.layers.conv2d(vgg_layer4_out, num_classes, 1, padding = 'same', \n",
    "                                      kernel_initializer = tf.random_normal_initializer(stddev=0.01),\n",
    "                                      kernel_regularizer= tf.contrib.layers.l2_regularizer(1e-3))\n",
    "    \n",
    "    \n",
    "    # Step # 4: Skip connection by element-wise addition\n",
    "    layer4_7_skip_conn = tf.add(layer7_out_upsampled, layer4_out_1x1)\n",
    "    \n",
    "    # Step # 5: Upsampling\n",
    "    layer4_7_upsampled = tf.layers.conv2d_transpose(layer4_7_skip_conn, num_classes, 4, \n",
    "                                                        strides = (2,2),\n",
    "                                                        padding = 'same',\n",
    "                                                        kernel_initializer = tf.random_normal_initializer(stddev=0.01),\n",
    "                                                        kernel_regularizer= tf.contrib.layers.l2_regularizer(1e-3))\n",
    "    \n",
    "    # Step 6: Repeat process for VGG Layer 3\n",
    "    layer3_out_1x1 = tf.layers.conv2d(vgg_layer3_out, num_classes, 1, padding = 'same', \n",
    "                                      kernel_initializer = tf.random_normal_initializer(stddev=0.01),\n",
    "                                      kernel_regularizer= tf.contrib.layers.l2_regularizer(1e-3))\n",
    "    \n",
    "    # Step 6: Skip connection by element-wise addition\n",
    "    layer4_7_3_skip_conn = tf.add(layer4_7_upsampled, layer3_out_1x1)\n",
    "    \n",
    "    # Step 7: Upsampling\n",
    "    final_layer = tf.layers.conv2d_transpose(layer4_7_3_skip_conn, num_classes, 16, \n",
    "                                                        strides = (8,8),\n",
    "                                                        padding = 'same',\n",
    "                                                        kernel_initializer = tf.random_normal_initializer(stddev=0.01),\n",
    "                                                        kernel_regularizer= tf.contrib.layers.l2_regularizer(1e-3))\n",
    "                                                        \n",
    "    return final_layer\n",
    "\n",
    "tests.test_layers(layers)"
   ]
  },
  {
   "cell_type": "markdown",
   "metadata": {},
   "source": [
    "## Loss Function"
   ]
  },
  {
   "cell_type": "code",
   "execution_count": 4,
   "metadata": {},
   "outputs": [
    {
     "name": "stdout",
     "output_type": "stream",
     "text": [
      "WARNING:tensorflow:From <ipython-input-4-eb20283c9932>:18: softmax_cross_entropy_with_logits (from tensorflow.python.ops.nn_ops) is deprecated and will be removed in a future version.\n",
      "Instructions for updating:\n",
      "\n",
      "Future major versions of TensorFlow will allow gradients to flow\n",
      "into the labels input on backprop by default.\n",
      "\n",
      "See tf.nn.softmax_cross_entropy_with_logits_v2.\n",
      "\n",
      "Tests Passed\n"
     ]
    }
   ],
   "source": [
    "def optimize(nn_last_layer, correct_label, learning_rate, num_classes):\n",
    "    \"\"\"\n",
    "    Build the TensorFLow loss and optimizer operations.\n",
    "    :param nn_last_layer: TF Tensor of the last layer in the neural network\n",
    "    :param correct_label: TF Placeholder for the correct label image\n",
    "    :param learning_rate: TF Placeholder for the learning rate\n",
    "    :param num_classes: Number of classes to classify\n",
    "    :return: Tuple of (logits, train_op, cross_entropy_loss)\n",
    "    \"\"\"\n",
    "    # TODO: Implement function\n",
    "    \n",
    "    # Reshape last layer as 2-D output with row representing pixel and column - binary for road/non-road\n",
    "    logits = tf.reshape(nn_last_layer, (-1, num_classes), name=\"vsk_logits\")\n",
    "    correct_labels = tf.reshape(correct_label, (-1, num_classes))\n",
    "    \n",
    "    # Define the loss function - which a softmax cross entropy\n",
    "    cross_entropy_loss = tf.reduce_mean(tf.nn.softmax_cross_entropy_with_logits(logits = logits, \n",
    "                                                                                labels = correct_labels))\n",
    "    \n",
    "    # We will use Adam optimizer for finding the weights\n",
    "    optimizer = tf.train.AdamOptimizer(learning_rate = learning_rate)\n",
    "    train_op = optimizer.minimize(cross_entropy_loss)\n",
    "    \n",
    "    return logits, train_op, cross_entropy_loss\n",
    "\n",
    "tests.test_optimize(optimize)"
   ]
  },
  {
   "cell_type": "markdown",
   "metadata": {},
   "source": [
    "## Define Training pipeline"
   ]
  },
  {
   "cell_type": "code",
   "execution_count": 5,
   "metadata": {},
   "outputs": [],
   "source": [
    "def train_nn(sess, epochs, batch_size, get_batches_fn, train_op, cross_entropy_loss, input_image,\n",
    "             correct_label, keep_prob, learning_rate):\n",
    "    \"\"\"\n",
    "    Train neural network and print out the loss during training.\n",
    "    :param sess: TF Session\n",
    "    :param epochs: Number of epochs\n",
    "    :param batch_size: Batch size\n",
    "    :param get_batches_fn: Function to get batches of training data.  Call using get_batches_fn(batch_size)\n",
    "    :param train_op: TF Operation to train the neural network\n",
    "    :param cross_entropy_loss: TF Tensor for the amount of loss\n",
    "    :param input_image: TF Placeholder for input images\n",
    "    :param correct_label: TF Placeholder for label images\n",
    "    :param keep_prob: TF Placeholder for dropout keep probability\n",
    "    :param learning_rate: TF Placeholder for learning rate\n",
    "    \"\"\"\n",
    "    # TODO: Implement function\n",
    "    \n",
    "    sess.run(tf.global_variables_initializer())\n",
    "    print(\"Starting training ... \")\n",
    "    \n",
    "    log_loss = []\n",
    "    \n",
    "    for i in range(epochs):\n",
    "        epoch_loss = 0\n",
    "        batch_count = 0\n",
    "        for img, label in get_batches_fn(batch_size):\n",
    "            _, loss = sess.run([train_op, cross_entropy_loss],\n",
    "                              feed_dict = {input_image: img, \n",
    "                                           correct_label: label, \n",
    "                                           keep_prob: 0.5,\n",
    "                                           learning_rate: 1e-3})\n",
    "            print(\"Loss at epoch # \" + str(i+1)  + \" = \" + str(loss))\n",
    "            \n",
    "            epoch_loss += loss\n",
    "            batch_count += 1\n",
    "            \n",
    "        log_loss.append(epoch_loss / batch_count)\n",
    "    \n",
    "    return log_loss\n",
    "            \n",
    "tests.test_train_nn(train_nn)"
   ]
  },
  {
   "cell_type": "code",
   "execution_count": 9,
   "metadata": {
    "collapsed": true
   },
   "outputs": [],
   "source": [
    "import scipy\n",
    "import numpy as np\n",
    "\n",
    "def gen_test_output(sess, logits, keep_prob, image_pl, image_shape, image):\n",
    "    \"\"\" \n",
    "    Generate test output using the test images\n",
    "    :param sess: TF session\n",
    "    :param logits: TF Tensor for the logits\n",
    "    :param keep_prob: TF Placeholder for the dropout keep robability\n",
    "    :param image_pl: TF Placeholder for the image placeholder\n",
    "    :param data_folder: Path to the folder that contains the datasets\n",
    "    :param image_shape: Tuple - Shape of image\n",
    "    :return: Output for for each test image\n",
    "    \"\"\"\n",
    "    image = scipy.misc.imresize(image, image_shape)\n",
    "    \n",
    "    im_softmax = sess.run(\n",
    "          [tf.nn.softmax(logits)],\n",
    "          {keep_prob: 1.0, image_pl: [image]})\n",
    "    im_softmax = im_softmax[0][:, 1].reshape(image_shape[0], image_shape[1])\n",
    "    segmentation = (im_softmax > 0.5).reshape(image_shape[0], image_shape[1], 1)\n",
    "    mask = np.dot(segmentation, np.array([[0, 255, 0, 127]]))\n",
    "    mask = scipy.misc.toimage(mask, mode=\"RGBA\")\n",
    "    street_im = scipy.misc.toimage(image)\n",
    "    street_im.paste(mask, box=None, mask=mask)\n",
    "\n",
    "    #yield os.path.basename(image_file), np.array(street_im)\n",
    "    return street_im"
   ]
  },
  {
   "cell_type": "markdown",
   "metadata": {
    "collapsed": true
   },
   "source": [
    "## Training"
   ]
  },
  {
   "cell_type": "code",
   "execution_count": 6,
   "metadata": {
    "collapsed": true
   },
   "outputs": [],
   "source": [
    "def run():\n",
    "    num_classes = 2\n",
    "    image_shape = (160, 576)\n",
    "    data_dir = './data'\n",
    "    runs_dir = './runs'\n",
    "    \n",
    "    model_runs_dir = './runs/final'\n",
    "    \n",
    "    print(\"Starting training process\")\n",
    "\n",
    "    tests.test_for_kitti_dataset(data_dir)\n",
    "    \n",
    "    # Download pretrained vgg model\n",
    "    helper.maybe_download_pretrained_vgg(data_dir)\n",
    "    \n",
    "    print(\"DOwnload of VGG model done\")\n",
    "\n",
    "    # OPTIONAL: Train and Inference on the cityscapes dataset instead of the Kitti dataset.\n",
    "    # You'll need a GPU with at least 10 teraFLOPS to train on.\n",
    "    #  https://www.cityscapes-dataset.com/\n",
    "    \n",
    "    new_graph = tf.Graph()\n",
    "    \n",
    "    with tf.Session(graph=new_graph) as sess:\n",
    "        # Path to vgg model\n",
    "        vgg_path = os.path.join(data_dir, 'vgg')\n",
    "        # Create function to get batches\n",
    "        get_batches_fn = helper.gen_batch_function(os.path.join(data_dir, 'data_road/training'), image_shape)\n",
    "\n",
    "        # OPTIONAL: Augment Images for better results\n",
    "        #  https://datascience.stackexchange.com/questions/5224/how-to-prepare-augment-images-for-neural-network\n",
    "\n",
    "        # TODO: Build NN using load_vgg, layers, and optimize function\n",
    "        epochs = 65\n",
    "        batch_size = 4\n",
    "\n",
    "        correct_label = tf.placeholder(tf.int32, [None, None, None, num_classes], name='correct_label')\n",
    "        learning_rate = tf.placeholder(tf.float32, name='learning_rate')\n",
    "        \n",
    "        input_image, keep_prob, vgg_layer3_out, vgg_layer4_out, vgg_layer7_out = load_vgg(sess, vgg_path)\n",
    "        nn_last_layer = layers(vgg_layer3_out, vgg_layer4_out, vgg_layer7_out, num_classes)\n",
    "        logits, train_op, cross_entropy_loss = optimize(nn_last_layer, correct_label, learning_rate, num_classes)\n",
    "        \n",
    "        sess.run(tf.global_variables_initializer())\n",
    "\n",
    "        # TODO: Train NN using the train_nn function\n",
    "        print(\"Before starting the training\")\n",
    "        log_loss = train_nn(sess, epochs, batch_size, get_batches_fn, train_op, cross_entropy_loss, input_image,\n",
    "             correct_label, keep_prob, learning_rate)\n",
    "        \n",
    "        print(\"Training completed\")\n",
    "        \n",
    "        saver = tf.train.Saver(tf.trainable_variables())\n",
    "        \n",
    "        saver_def = saver.as_saver_def()\n",
    "        save_path = os.path.join(model_runs_dir, 'semantic_model')\n",
    "        save_path_pb = os.path.join(model_runs_dir, 'semantic_model.pb')\n",
    "        \n",
    "        saver.save(sess, save_path)\n",
    "        tf.train.write_graph(sess.graph_def,  '.', save_path_pb, as_text=False)\n",
    "        \n",
    "        # Save inference data using helper.save_inference_samples\n",
    "        folder_name = helper.save_inference_samples(model_runs_dir, data_dir, sess, image_shape, logits, keep_prob, input_image)\n"
   ]
  },
  {
   "cell_type": "code",
   "execution_count": 9,
   "metadata": {
    "collapsed": true
   },
   "outputs": [],
   "source": [
    "run()"
   ]
  },
  {
   "cell_type": "markdown",
   "metadata": {},
   "source": [
    "## Load Graph"
   ]
  },
  {
   "cell_type": "code",
   "execution_count": 7,
   "metadata": {
    "collapsed": true
   },
   "outputs": [],
   "source": [
    "#!/usr/bin/env python3\n",
    "import os.path\n",
    "import tensorflow as tf\n",
    "import helper\n",
    "import warnings\n",
    "from distutils.version import LooseVersion\n",
    "import project_tests as tests\n",
    "\n",
    "def load_graph(frozen_graph_filename):\n",
    "    with tf.gfile.GFile(frozen_graph_filename, \"rb\") as f:\n",
    "        graph_def = tf.GraphDef()\n",
    "        graph_def.ParseFromString(f.read())\n",
    "    \n",
    "    graph = tf.Graph()\n",
    "    # Then, we import the graph_def into a new Graph and returns it \n",
    "    with graph.as_default() as g:\n",
    "        # The name var will prefix every op/nodes in your graph\n",
    "        # Since we load everything in a new graph, this is not needed\n",
    "        tf.import_graph_def(graph_def)\n",
    "    return graph"
   ]
  },
  {
   "cell_type": "code",
   "execution_count": null,
   "metadata": {
    "collapsed": true
   },
   "outputs": [],
   "source": [
    "def process_frame(frame, frozen_graph):\n",
    "    img_shape = (160, 576)\n",
    "    graph = load_graph(frozen_graph)\n",
    "    logits = graph.get_tensor_by_name('prefix/softmax_cross_entropy_with_logits_sg:1')\n",
    "    keep_prob = graph.get_tensor_by_name('prefix/keep_prob:0')\n",
    "    input_image = graph.get_tensor_by_name('prefix/image_input:0')\n",
    "    \n",
    "    with tf.Session(graph=graph) as sess:\n",
    "        semantic_img = gen_test_output(sess, logits, keep_prob, input_image, img_shape, frame)\n",
    "        return semantic_img"
   ]
  },
  {
   "cell_type": "markdown",
   "metadata": {},
   "source": [
    "## Inference - Process Test Images"
   ]
  },
  {
   "cell_type": "code",
   "execution_count": null,
   "metadata": {
    "collapsed": true
   },
   "outputs": [],
   "source": [
    "frozen_graph = '/home/ubuntu/CarND-Semantic-Segmentation/runs/final/semantic_frozen_graph.pb'\n",
    "graph = load_graph(frozen_graph)\n",
    "data_dir = './data'\n",
    "num_classes = 2\n",
    "model_runs_dir = './runs/final'\n",
    "image_shape = (160, 576)\n",
    "\n",
    "with tf.Session(graph=graph) as sess:\n",
    "    \n",
    "    input_image = graph.get_tensor_by_name('import/image_input:0')\n",
    "    keep_prob = graph.get_tensor_by_name('import/keep_prob:0')\n",
    "    logits = graph.get_tensor_by_name('import/vsk_logits:0')\n",
    "    \n",
    "    sess.run(tf.global_variables_initializer())\n",
    "    sess.run(tf.local_variables_initializer())\n",
    "    \n",
    "    folder_name = helper.save_inference_samples(model_runs_dir, data_dir, sess, image_shape, logits, keep_prob, input_image)"
   ]
  },
  {
   "cell_type": "markdown",
   "metadata": {},
   "source": [
    "## Inference - Process Video"
   ]
  },
  {
   "cell_type": "code",
   "execution_count": null,
   "metadata": {},
   "outputs": [],
   "source": [
    "frozen_graph = '/home/ubuntu/CarND-Semantic-Segmentation/runs/final/semantic_frozen_graph.pb'\n",
    "graph = load_graph(frozen_graph)\n",
    "data_dir = './data'\n",
    "num_classes = 2\n",
    "\n",
    "import cv2\n",
    "import datetime\n",
    "import numpy as np\n",
    "import cv2\n",
    "import matplotlib.pyplot as plt\n",
    "\n",
    "cap = cv2.VideoCapture('./1.avi')\n",
    "\n",
    "frame_width = int(cap.get(3))\n",
    "frame_height = int(cap.get(4))\n",
    "\n",
    "img_shape = (160, 576)\n",
    "\n",
    "out = cv2.VideoWriter('semantic_output_India.avi', cv2.VideoWriter_fourcc('M','J','P','G'), 10, (frame_width,frame_height))\n",
    "\n",
    "frame_count = 0\n",
    "\n",
    "with tf.Session(graph=graph) as sess:\n",
    "    \n",
    "    input_image = graph.get_tensor_by_name('import/image_input:0')\n",
    "    keep_prob = graph.get_tensor_by_name('import/keep_prob:0')\n",
    "    logits = graph.get_tensor_by_name('import/vsk_logits:0')\n",
    "    \n",
    "    sess.run(tf.global_variables_initializer())\n",
    "    sess.run(tf.local_variables_initializer())\n",
    "\n",
    "    while(cap.isOpened()):\n",
    "        ret, frame = cap.read()\n",
    "        frame = frame.astype(float)\n",
    "        \n",
    "        frame_count += 1\n",
    "        \n",
    "        # Skip initial frames\n",
    "        if (frame_count <= 500):\n",
    "            continue\n",
    "            \n",
    "        print(\"Read frame number  = \" + str(frame_count))\n",
    "        inference_start_time = datetime.datetime.now()\n",
    "        semantic_img = gen_test_output(sess, logits, keep_prob, input_image, img_shape, frame)\n",
    "        inference_end_time = datetime.datetime.now()\n",
    "        inference_time = inference_end_time - inference_start_time\n",
    "        print(\"Total inference time in ms = \" + str(inference_time.total_seconds() * 1000))\n",
    "        print(\"Inference completed for frame number = \" + str(frame_count))\n",
    "\n",
    "        semantic_resized = scipy.misc.imresize(semantic_img, (frame_height,frame_width))\n",
    "\n",
    "        open_cv_image = np.array(semantic_resized) \n",
    "        # Convert RGB to BGR \n",
    "        open_cv_image = open_cv_image[:, :, ::-1].copy()\n",
    "        out.write(open_cv_image)\n",
    "        print(\"Type of image = \" + str(type(open_cv_image)))\n",
    "        print(\"Original Image shape = \" + str(frame.shape))\n",
    "        print(\"Semantic Image shape = \" + str(open_cv_image.shape))\n",
    "\n",
    "        #out.write(frame)\n",
    "\n",
    "        plt.imshow(open_cv_image)\n",
    "        plt.show()\n",
    "        \n",
    "    cap.release()\n",
    "    out.release()"
   ]
  },
  {
   "cell_type": "code",
   "execution_count": null,
   "metadata": {
    "collapsed": true
   },
   "outputs": [],
   "source": []
  }
 ],
 "metadata": {
  "kernelspec": {
   "display_name": "Python 3",
   "language": "python",
   "name": "python3"
  },
  "language_info": {
   "codemirror_mode": {
    "name": "ipython",
    "version": 3
   },
   "file_extension": ".py",
   "mimetype": "text/x-python",
   "name": "python",
   "nbconvert_exporter": "python",
   "pygments_lexer": "ipython3",
   "version": "3.6.1"
  }
 },
 "nbformat": 4,
 "nbformat_minor": 2
}
